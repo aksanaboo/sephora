{
  "nbformat": 4,
  "nbformat_minor": 0,
  "metadata": {
    "colab": {
      "provenance": [],
      "authorship_tag": "ABX9TyMLzqWo0kbuGQ6ABVE2H8J7",
      "include_colab_link": true
    },
    "kernelspec": {
      "name": "python3",
      "display_name": "Python 3"
    },
    "language_info": {
      "name": "python"
    }
  },
  "cells": [
    {
      "cell_type": "markdown",
      "metadata": {
        "id": "view-in-github",
        "colab_type": "text"
      },
      "source": [
        "<a href=\"https://colab.research.google.com/github/aksanaboo/sephora/blob/main/SephoraEDA.ipynb\" target=\"_parent\"><img src=\"https://colab.research.google.com/assets/colab-badge.svg\" alt=\"Open In Colab\"/></a>"
      ]
    },
    {
      "cell_type": "code",
      "execution_count": 1,
      "metadata": {
        "colab": {
          "base_uri": "https://localhost:8080/"
        },
        "id": "Jvu1RbKjmJR7",
        "outputId": "c41ced39-2cf7-4f9d-a786-22e0a89dbf3e"
      },
      "outputs": [
        {
          "output_type": "stream",
          "name": "stdout",
          "text": [
            "Mounted at /content/drive\n"
          ]
        }
      ],
      "source": [
        "from google.colab import drive\n",
        "drive.mount('/content/drive')"
      ]
    },
    {
      "cell_type": "code",
      "source": [
        "#imports\n",
        "import pandas as pd\n",
        "import numpy as np\n",
        "import matplotlib.pyplot as plt\n",
        "import seaborn as sns"
      ],
      "metadata": {
        "id": "YUOd5zukmX1K"
      },
      "execution_count": 2,
      "outputs": []
    },
    {
      "cell_type": "code",
      "source": [
        "#datasets\n",
        "product = pd.read_csv('/content/drive/MyDrive/Colab Notebooks/product_info.csv')\n",
        "review_1 = pd.read_csv('/content/drive/MyDrive/Colab Notebooks/reviews_0-250.csv')\n",
        "review_2 = pd.read_csv('/content/drive/MyDrive/Colab Notebooks/reviews_250-500.csv')\n",
        "review_3 = pd.read_csv('/content/drive/MyDrive/Colab Notebooks/reviews_500-750.csv')\n",
        "review_4 = pd.read_csv('/content/drive/MyDrive/Colab Notebooks/reviews_750-1250.csv')\n",
        "review_5 = pd.read_csv('/content/drive/MyDrive/Colab Notebooks/reviews_1250-end.csv')"
      ],
      "metadata": {
        "colab": {
          "base_uri": "https://localhost:8080/"
        },
        "id": "SJzrNjcAmZhX",
        "outputId": "e6ba58b5-1dc2-463f-b4b9-f4d664ab1e26"
      },
      "execution_count": 3,
      "outputs": [
        {
          "output_type": "stream",
          "name": "stderr",
          "text": [
            "<ipython-input-3-e4867818210a>:3: DtypeWarning: Columns (1) have mixed types. Specify dtype option on import or set low_memory=False.\n",
            "  review_1 = pd.read_csv('/content/drive/MyDrive/Colab Notebooks/reviews_0-250.csv')\n",
            "<ipython-input-3-e4867818210a>:6: DtypeWarning: Columns (1) have mixed types. Specify dtype option on import or set low_memory=False.\n",
            "  review_4 = pd.read_csv('/content/drive/MyDrive/Colab Notebooks/reviews_750-1250.csv')\n",
            "<ipython-input-3-e4867818210a>:7: DtypeWarning: Columns (1) have mixed types. Specify dtype option on import or set low_memory=False.\n",
            "  review_5 = pd.read_csv('/content/drive/MyDrive/Colab Notebooks/reviews_1250-end.csv')\n"
          ]
        }
      ]
    },
    {
      "cell_type": "markdown",
      "source": [
        "## Product dataset clean up and exploration"
      ],
      "metadata": {
        "id": "O1GeByAYnIY-"
      }
    },
    {
      "cell_type": "markdown",
      "source": [
        "**Product Data Content  features and Description**\n",
        "\n",
        "product_id:\tThe unique identifier for the product from the site\n",
        "\n",
        "product_name:\tThe full name of the product\n",
        "\n",
        "brand_id:\tThe unique identifier for the product brand from the site\n",
        "\n",
        "brand_name:\tThe full name of the product brand\n",
        "\n",
        "loves_count:\tThe number of people who have marked this product as a favorite\n",
        "\n",
        "rating:\tThe average rating of the product based on user reviews\n",
        "\n",
        "reviews:\tThe number of user reviews for the product\n",
        "\n",
        "size:\tThe size of the product, which may be in oz, ml, g, packs, or other units depending on the product type\n",
        "\n",
        "variation_type:\tThe type of variation parameter for the product (e.g. Size, Color)\n",
        "\n",
        "variation_value:\tThe specific value of the variation parameter for the product (e.g. 100 mL, Golden Sand)\n",
        "\n",
        "variation_desc:\tA description of the variation parameter for the product (e.g. tone for fairest skin)\n",
        "\n",
        "ingredients:\tA list of ingredients included in the product\n",
        "\n",
        "price_usd:\tThe price of the product in US dollars\n",
        "\n",
        "value_price_usd:\tThe potential cost savings of the product, presented on the site next to the regular price\n",
        "\n",
        "sale_price_usd:\tThe sale price of the product in US dollars\n",
        "\n",
        "limited_edition:\tIndicates whether the product is a limited edition or not (1-true, 0-false)\n",
        "\n",
        "new:\tIndicates whether the product is new or not (1-true, 0-false)\n",
        "\n",
        "online_only:\tIndicates whether the product is only sold online or not (1-true, 0-false)\n",
        "\n",
        "out_of_stock:\tIndicates whether the product is currently out of stock or not (1 if true, 0 if false)\n",
        "\n",
        "sephora_exclusive:\tIndicates whether the product is exclusive to Sephora or not (1 if true, 0 if false)\n",
        "\n",
        "highlights:\tA list of tags or features that highlight the product's attributes\n",
        "\n",
        "primary_category:\tFirst category in the breadcrumb section\n",
        "\n",
        "secondary_category:\tSecond category in the breadcrumb section\n",
        "\n",
        "tertiary_category:\tThird category in the breadcrumb section\n",
        "\n",
        "child_count:\tThe number of variations of the product available\n",
        "\n",
        "child_max_price:\tThe highest price among the variations of the product\n",
        "\n",
        "child_min_price:\tThe lowest price among the variations of the product"
      ],
      "metadata": {
        "id": "gnkSO95xnpkd"
      }
    },
    {
      "cell_type": "code",
      "source": [
        "product.head(2)"
      ],
      "metadata": {
        "colab": {
          "base_uri": "https://localhost:8080/",
          "height": 318
        },
        "id": "F98VZYHInh1q",
        "outputId": "5f0985b7-8338-424e-b952-30f97d420e6f"
      },
      "execution_count": 6,
      "outputs": [
        {
          "output_type": "execute_result",
          "data": {
            "text/plain": [
              "  product_id             product_name  brand_id brand_name  loves_count  \\\n",
              "0    P473671  Fragrance Discovery Set      6342      19-69         6320   \n",
              "1    P473668  La Habana Eau de Parfum      6342      19-69         3827   \n",
              "\n",
              "   rating  reviews            size                      variation_type  \\\n",
              "0  3.6364     11.0             NaN                                 NaN   \n",
              "1  4.1538     13.0  3.4 oz/ 100 mL  Size + Concentration + Formulation   \n",
              "\n",
              "  variation_value  ... online_only out_of_stock  sephora_exclusive  \\\n",
              "0             NaN  ...           1            0                  0   \n",
              "1  3.4 oz/ 100 mL  ...           1            0                  0   \n",
              "\n",
              "                                          highlights  primary_category  \\\n",
              "0  ['Unisex/ Genderless Scent', 'Warm &Spicy Scen...         Fragrance   \n",
              "1  ['Unisex/ Genderless Scent', 'Layerable Scent'...         Fragrance   \n",
              "\n",
              "   secondary_category  tertiary_category  child_count  child_max_price  \\\n",
              "0   Value & Gift Sets  Perfume Gift Sets            0              NaN   \n",
              "1               Women            Perfume            2             85.0   \n",
              "\n",
              "   child_min_price  \n",
              "0              NaN  \n",
              "1             30.0  \n",
              "\n",
              "[2 rows x 27 columns]"
            ],
            "text/html": [
              "\n",
              "  <div id=\"df-65866f96-c029-4b2e-9668-59d81efc8982\" class=\"colab-df-container\">\n",
              "    <div>\n",
              "<style scoped>\n",
              "    .dataframe tbody tr th:only-of-type {\n",
              "        vertical-align: middle;\n",
              "    }\n",
              "\n",
              "    .dataframe tbody tr th {\n",
              "        vertical-align: top;\n",
              "    }\n",
              "\n",
              "    .dataframe thead th {\n",
              "        text-align: right;\n",
              "    }\n",
              "</style>\n",
              "<table border=\"1\" class=\"dataframe\">\n",
              "  <thead>\n",
              "    <tr style=\"text-align: right;\">\n",
              "      <th></th>\n",
              "      <th>product_id</th>\n",
              "      <th>product_name</th>\n",
              "      <th>brand_id</th>\n",
              "      <th>brand_name</th>\n",
              "      <th>loves_count</th>\n",
              "      <th>rating</th>\n",
              "      <th>reviews</th>\n",
              "      <th>size</th>\n",
              "      <th>variation_type</th>\n",
              "      <th>variation_value</th>\n",
              "      <th>...</th>\n",
              "      <th>online_only</th>\n",
              "      <th>out_of_stock</th>\n",
              "      <th>sephora_exclusive</th>\n",
              "      <th>highlights</th>\n",
              "      <th>primary_category</th>\n",
              "      <th>secondary_category</th>\n",
              "      <th>tertiary_category</th>\n",
              "      <th>child_count</th>\n",
              "      <th>child_max_price</th>\n",
              "      <th>child_min_price</th>\n",
              "    </tr>\n",
              "  </thead>\n",
              "  <tbody>\n",
              "    <tr>\n",
              "      <th>0</th>\n",
              "      <td>P473671</td>\n",
              "      <td>Fragrance Discovery Set</td>\n",
              "      <td>6342</td>\n",
              "      <td>19-69</td>\n",
              "      <td>6320</td>\n",
              "      <td>3.6364</td>\n",
              "      <td>11.0</td>\n",
              "      <td>NaN</td>\n",
              "      <td>NaN</td>\n",
              "      <td>NaN</td>\n",
              "      <td>...</td>\n",
              "      <td>1</td>\n",
              "      <td>0</td>\n",
              "      <td>0</td>\n",
              "      <td>['Unisex/ Genderless Scent', 'Warm &amp;Spicy Scen...</td>\n",
              "      <td>Fragrance</td>\n",
              "      <td>Value &amp; Gift Sets</td>\n",
              "      <td>Perfume Gift Sets</td>\n",
              "      <td>0</td>\n",
              "      <td>NaN</td>\n",
              "      <td>NaN</td>\n",
              "    </tr>\n",
              "    <tr>\n",
              "      <th>1</th>\n",
              "      <td>P473668</td>\n",
              "      <td>La Habana Eau de Parfum</td>\n",
              "      <td>6342</td>\n",
              "      <td>19-69</td>\n",
              "      <td>3827</td>\n",
              "      <td>4.1538</td>\n",
              "      <td>13.0</td>\n",
              "      <td>3.4 oz/ 100 mL</td>\n",
              "      <td>Size + Concentration + Formulation</td>\n",
              "      <td>3.4 oz/ 100 mL</td>\n",
              "      <td>...</td>\n",
              "      <td>1</td>\n",
              "      <td>0</td>\n",
              "      <td>0</td>\n",
              "      <td>['Unisex/ Genderless Scent', 'Layerable Scent'...</td>\n",
              "      <td>Fragrance</td>\n",
              "      <td>Women</td>\n",
              "      <td>Perfume</td>\n",
              "      <td>2</td>\n",
              "      <td>85.0</td>\n",
              "      <td>30.0</td>\n",
              "    </tr>\n",
              "  </tbody>\n",
              "</table>\n",
              "<p>2 rows × 27 columns</p>\n",
              "</div>\n",
              "    <div class=\"colab-df-buttons\">\n",
              "\n",
              "  <div class=\"colab-df-container\">\n",
              "    <button class=\"colab-df-convert\" onclick=\"convertToInteractive('df-65866f96-c029-4b2e-9668-59d81efc8982')\"\n",
              "            title=\"Convert this dataframe to an interactive table.\"\n",
              "            style=\"display:none;\">\n",
              "\n",
              "  <svg xmlns=\"http://www.w3.org/2000/svg\" height=\"24px\" viewBox=\"0 -960 960 960\">\n",
              "    <path d=\"M120-120v-720h720v720H120Zm60-500h600v-160H180v160Zm220 220h160v-160H400v160Zm0 220h160v-160H400v160ZM180-400h160v-160H180v160Zm440 0h160v-160H620v160ZM180-180h160v-160H180v160Zm440 0h160v-160H620v160Z\"/>\n",
              "  </svg>\n",
              "    </button>\n",
              "\n",
              "  <style>\n",
              "    .colab-df-container {\n",
              "      display:flex;\n",
              "      gap: 12px;\n",
              "    }\n",
              "\n",
              "    .colab-df-convert {\n",
              "      background-color: #E8F0FE;\n",
              "      border: none;\n",
              "      border-radius: 50%;\n",
              "      cursor: pointer;\n",
              "      display: none;\n",
              "      fill: #1967D2;\n",
              "      height: 32px;\n",
              "      padding: 0 0 0 0;\n",
              "      width: 32px;\n",
              "    }\n",
              "\n",
              "    .colab-df-convert:hover {\n",
              "      background-color: #E2EBFA;\n",
              "      box-shadow: 0px 1px 2px rgba(60, 64, 67, 0.3), 0px 1px 3px 1px rgba(60, 64, 67, 0.15);\n",
              "      fill: #174EA6;\n",
              "    }\n",
              "\n",
              "    .colab-df-buttons div {\n",
              "      margin-bottom: 4px;\n",
              "    }\n",
              "\n",
              "    [theme=dark] .colab-df-convert {\n",
              "      background-color: #3B4455;\n",
              "      fill: #D2E3FC;\n",
              "    }\n",
              "\n",
              "    [theme=dark] .colab-df-convert:hover {\n",
              "      background-color: #434B5C;\n",
              "      box-shadow: 0px 1px 3px 1px rgba(0, 0, 0, 0.15);\n",
              "      filter: drop-shadow(0px 1px 2px rgba(0, 0, 0, 0.3));\n",
              "      fill: #FFFFFF;\n",
              "    }\n",
              "  </style>\n",
              "\n",
              "    <script>\n",
              "      const buttonEl =\n",
              "        document.querySelector('#df-65866f96-c029-4b2e-9668-59d81efc8982 button.colab-df-convert');\n",
              "      buttonEl.style.display =\n",
              "        google.colab.kernel.accessAllowed ? 'block' : 'none';\n",
              "\n",
              "      async function convertToInteractive(key) {\n",
              "        const element = document.querySelector('#df-65866f96-c029-4b2e-9668-59d81efc8982');\n",
              "        const dataTable =\n",
              "          await google.colab.kernel.invokeFunction('convertToInteractive',\n",
              "                                                    [key], {});\n",
              "        if (!dataTable) return;\n",
              "\n",
              "        const docLinkHtml = 'Like what you see? Visit the ' +\n",
              "          '<a target=\"_blank\" href=https://colab.research.google.com/notebooks/data_table.ipynb>data table notebook</a>'\n",
              "          + ' to learn more about interactive tables.';\n",
              "        element.innerHTML = '';\n",
              "        dataTable['output_type'] = 'display_data';\n",
              "        await google.colab.output.renderOutput(dataTable, element);\n",
              "        const docLink = document.createElement('div');\n",
              "        docLink.innerHTML = docLinkHtml;\n",
              "        element.appendChild(docLink);\n",
              "      }\n",
              "    </script>\n",
              "  </div>\n",
              "\n",
              "\n",
              "<div id=\"df-ef4340d0-c435-4689-a4d2-ff542c486cdb\">\n",
              "  <button class=\"colab-df-quickchart\" onclick=\"quickchart('df-ef4340d0-c435-4689-a4d2-ff542c486cdb')\"\n",
              "            title=\"Suggest charts.\"\n",
              "            style=\"display:none;\">\n",
              "\n",
              "<svg xmlns=\"http://www.w3.org/2000/svg\" height=\"24px\"viewBox=\"0 0 24 24\"\n",
              "     width=\"24px\">\n",
              "    <g>\n",
              "        <path d=\"M19 3H5c-1.1 0-2 .9-2 2v14c0 1.1.9 2 2 2h14c1.1 0 2-.9 2-2V5c0-1.1-.9-2-2-2zM9 17H7v-7h2v7zm4 0h-2V7h2v10zm4 0h-2v-4h2v4z\"/>\n",
              "    </g>\n",
              "</svg>\n",
              "  </button>\n",
              "\n",
              "<style>\n",
              "  .colab-df-quickchart {\n",
              "      --bg-color: #E8F0FE;\n",
              "      --fill-color: #1967D2;\n",
              "      --hover-bg-color: #E2EBFA;\n",
              "      --hover-fill-color: #174EA6;\n",
              "      --disabled-fill-color: #AAA;\n",
              "      --disabled-bg-color: #DDD;\n",
              "  }\n",
              "\n",
              "  [theme=dark] .colab-df-quickchart {\n",
              "      --bg-color: #3B4455;\n",
              "      --fill-color: #D2E3FC;\n",
              "      --hover-bg-color: #434B5C;\n",
              "      --hover-fill-color: #FFFFFF;\n",
              "      --disabled-bg-color: #3B4455;\n",
              "      --disabled-fill-color: #666;\n",
              "  }\n",
              "\n",
              "  .colab-df-quickchart {\n",
              "    background-color: var(--bg-color);\n",
              "    border: none;\n",
              "    border-radius: 50%;\n",
              "    cursor: pointer;\n",
              "    display: none;\n",
              "    fill: var(--fill-color);\n",
              "    height: 32px;\n",
              "    padding: 0;\n",
              "    width: 32px;\n",
              "  }\n",
              "\n",
              "  .colab-df-quickchart:hover {\n",
              "    background-color: var(--hover-bg-color);\n",
              "    box-shadow: 0 1px 2px rgba(60, 64, 67, 0.3), 0 1px 3px 1px rgba(60, 64, 67, 0.15);\n",
              "    fill: var(--button-hover-fill-color);\n",
              "  }\n",
              "\n",
              "  .colab-df-quickchart-complete:disabled,\n",
              "  .colab-df-quickchart-complete:disabled:hover {\n",
              "    background-color: var(--disabled-bg-color);\n",
              "    fill: var(--disabled-fill-color);\n",
              "    box-shadow: none;\n",
              "  }\n",
              "\n",
              "  .colab-df-spinner {\n",
              "    border: 2px solid var(--fill-color);\n",
              "    border-color: transparent;\n",
              "    border-bottom-color: var(--fill-color);\n",
              "    animation:\n",
              "      spin 1s steps(1) infinite;\n",
              "  }\n",
              "\n",
              "  @keyframes spin {\n",
              "    0% {\n",
              "      border-color: transparent;\n",
              "      border-bottom-color: var(--fill-color);\n",
              "      border-left-color: var(--fill-color);\n",
              "    }\n",
              "    20% {\n",
              "      border-color: transparent;\n",
              "      border-left-color: var(--fill-color);\n",
              "      border-top-color: var(--fill-color);\n",
              "    }\n",
              "    30% {\n",
              "      border-color: transparent;\n",
              "      border-left-color: var(--fill-color);\n",
              "      border-top-color: var(--fill-color);\n",
              "      border-right-color: var(--fill-color);\n",
              "    }\n",
              "    40% {\n",
              "      border-color: transparent;\n",
              "      border-right-color: var(--fill-color);\n",
              "      border-top-color: var(--fill-color);\n",
              "    }\n",
              "    60% {\n",
              "      border-color: transparent;\n",
              "      border-right-color: var(--fill-color);\n",
              "    }\n",
              "    80% {\n",
              "      border-color: transparent;\n",
              "      border-right-color: var(--fill-color);\n",
              "      border-bottom-color: var(--fill-color);\n",
              "    }\n",
              "    90% {\n",
              "      border-color: transparent;\n",
              "      border-bottom-color: var(--fill-color);\n",
              "    }\n",
              "  }\n",
              "</style>\n",
              "\n",
              "  <script>\n",
              "    async function quickchart(key) {\n",
              "      const quickchartButtonEl =\n",
              "        document.querySelector('#' + key + ' button');\n",
              "      quickchartButtonEl.disabled = true;  // To prevent multiple clicks.\n",
              "      quickchartButtonEl.classList.add('colab-df-spinner');\n",
              "      try {\n",
              "        const charts = await google.colab.kernel.invokeFunction(\n",
              "            'suggestCharts', [key], {});\n",
              "      } catch (error) {\n",
              "        console.error('Error during call to suggestCharts:', error);\n",
              "      }\n",
              "      quickchartButtonEl.classList.remove('colab-df-spinner');\n",
              "      quickchartButtonEl.classList.add('colab-df-quickchart-complete');\n",
              "    }\n",
              "    (() => {\n",
              "      let quickchartButtonEl =\n",
              "        document.querySelector('#df-ef4340d0-c435-4689-a4d2-ff542c486cdb button');\n",
              "      quickchartButtonEl.style.display =\n",
              "        google.colab.kernel.accessAllowed ? 'block' : 'none';\n",
              "    })();\n",
              "  </script>\n",
              "</div>\n",
              "    </div>\n",
              "  </div>\n"
            ]
          },
          "metadata": {},
          "execution_count": 6
        }
      ]
    },
    {
      "cell_type": "code",
      "source": [
        "#check rows and columns\n",
        "product.shape"
      ],
      "metadata": {
        "colab": {
          "base_uri": "https://localhost:8080/"
        },
        "id": "4PbbckZQn5oY",
        "outputId": "0c4a85ad-5974-4070-ce61-5be05c51e4bc"
      },
      "execution_count": 9,
      "outputs": [
        {
          "output_type": "execute_result",
          "data": {
            "text/plain": [
              "(8494, 27)"
            ]
          },
          "metadata": {},
          "execution_count": 9
        }
      ]
    },
    {
      "cell_type": "code",
      "source": [
        "#check missing values\n",
        "product.isnull().sum()"
      ],
      "metadata": {
        "colab": {
          "base_uri": "https://localhost:8080/"
        },
        "id": "tGuKOX4pn_LF",
        "outputId": "009097f1-f11d-413e-f8fa-a3ee0141ebc0"
      },
      "execution_count": 10,
      "outputs": [
        {
          "output_type": "execute_result",
          "data": {
            "text/plain": [
              "product_id               0\n",
              "product_name             0\n",
              "brand_id                 0\n",
              "brand_name               0\n",
              "loves_count              0\n",
              "rating                 278\n",
              "reviews                278\n",
              "size                  1631\n",
              "variation_type        1444\n",
              "variation_value       1598\n",
              "variation_desc        7244\n",
              "ingredients            945\n",
              "price_usd                0\n",
              "value_price_usd       8043\n",
              "sale_price_usd        8224\n",
              "limited_edition          0\n",
              "new                      0\n",
              "online_only              0\n",
              "out_of_stock             0\n",
              "sephora_exclusive        0\n",
              "highlights            2207\n",
              "primary_category         0\n",
              "secondary_category       8\n",
              "tertiary_category      990\n",
              "child_count              0\n",
              "child_max_price       5740\n",
              "child_min_price       5740\n",
              "dtype: int64"
            ]
          },
          "metadata": {},
          "execution_count": 10
        }
      ]
    },
    {
      "cell_type": "code",
      "source": [
        "#check for duplicates\n",
        "product.duplicated().sum()"
      ],
      "metadata": {
        "colab": {
          "base_uri": "https://localhost:8080/"
        },
        "id": "J5NYiH5aoLTu",
        "outputId": "95dafc78-6f79-4b34-a454-5cca9484a36b"
      },
      "execution_count": 12,
      "outputs": [
        {
          "output_type": "execute_result",
          "data": {
            "text/plain": [
              "0"
            ]
          },
          "metadata": {},
          "execution_count": 12
        }
      ]
    },
    {
      "cell_type": "code",
      "source": [
        "# remove irrelevant columns and missing ratings and reviews\n",
        "product.dropna(subset=['rating','reviews'],inplace=True)"
      ],
      "metadata": {
        "id": "VDlHmBY1oPnV"
      },
      "execution_count": 15,
      "outputs": []
    },
    {
      "cell_type": "code",
      "source": [
        "product.drop(columns=['child_max_price','child_min_price','value_price_usd','sale_price_usd','variation_type','variation_value','variation_desc'],inplace=True)"
      ],
      "metadata": {
        "id": "1-DFYi3ioork"
      },
      "execution_count": 16,
      "outputs": []
    },
    {
      "cell_type": "code",
      "source": [
        "# input Unknown at NaN\n",
        "product.fillna('Unknown', inplace=True)"
      ],
      "metadata": {
        "id": "6PkHRrkfpfl2"
      },
      "execution_count": 18,
      "outputs": []
    },
    {
      "cell_type": "code",
      "source": [
        "product.isnull().sum()"
      ],
      "metadata": {
        "colab": {
          "base_uri": "https://localhost:8080/"
        },
        "id": "XN3fOI2Npq1p",
        "outputId": "da5158a5-9924-4e1d-d2fb-27384deb34d8"
      },
      "execution_count": 19,
      "outputs": [
        {
          "output_type": "execute_result",
          "data": {
            "text/plain": [
              "product_id            0\n",
              "product_name          0\n",
              "brand_id              0\n",
              "brand_name            0\n",
              "loves_count           0\n",
              "rating                0\n",
              "reviews               0\n",
              "size                  0\n",
              "ingredients           0\n",
              "price_usd             0\n",
              "limited_edition       0\n",
              "new                   0\n",
              "online_only           0\n",
              "out_of_stock          0\n",
              "sephora_exclusive     0\n",
              "highlights            0\n",
              "primary_category      0\n",
              "secondary_category    0\n",
              "tertiary_category     0\n",
              "child_count           0\n",
              "dtype: int64"
            ]
          },
          "metadata": {},
          "execution_count": 19
        }
      ]
    },
    {
      "cell_type": "code",
      "source": [],
      "metadata": {
        "id": "o70Bb0xmpuH_"
      },
      "execution_count": null,
      "outputs": []
    }
  ]
}